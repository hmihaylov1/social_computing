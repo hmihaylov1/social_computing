{
 "cells": [
  {
   "cell_type": "markdown",
   "id": "ff2d0703-1cf5-442a-9730-5b054a09ec32",
   "metadata": {},
   "source": [
    "# Part 2: Email Behaviour Data Analysis"
   ]
  },
  {
   "cell_type": "markdown",
   "id": "94d3b813-a930-4d20-949d-557a59bd8724",
   "metadata": {
    "tags": []
   },
   "source": [
    "---"
   ]
  },
  {
   "cell_type": "markdown",
   "id": "d9389eca-4427-450f-b86d-2954730560af",
   "metadata": {
    "tags": []
   },
   "source": [
    "### Install Python packages (pip only)"
   ]
  },
  {
   "cell_type": "code",
   "execution_count": 1,
   "id": "561e7d2b-d506-4b97-9e0a-4643d5ef91d0",
   "metadata": {},
   "outputs": [
    {
     "name": "stdout",
     "output_type": "stream",
     "text": [
      "Requirement already satisfied: networkx in c:\\users\\admin\\appdata\\local\\packages\\pythonsoftwarefoundation.python.3.10_qbz5n2kfra8p0\\localcache\\local-packages\\python310\\site-packages (3.2.1)\n",
      "Note: you may need to restart the kernel to use updated packages.\n"
     ]
    }
   ],
   "source": [
    "pip install networkx"
   ]
  },
  {
   "cell_type": "markdown",
   "id": "661a426f-00b3-4eab-b8ff-3897a5bf2e87",
   "metadata": {},
   "source": [
    "### Import Python packages"
   ]
  },
  {
   "cell_type": "code",
   "execution_count": 10,
   "id": "9fde3e57-85f4-46f2-9999-96434563cc69",
   "metadata": {},
   "outputs": [],
   "source": [
    "import networkx as nx\n",
    "import numpy as np\n",
    "import json"
   ]
  },
  {
   "cell_type": "markdown",
   "id": "31f7e832-7044-47ce-84b0-610a465e6b1d",
   "metadata": {},
   "source": [
    "---"
   ]
  },
  {
   "cell_type": "markdown",
   "id": "6be69931-f66d-490c-8f4f-3d8016c72c13",
   "metadata": {
    "tags": []
   },
   "source": [
    "### Task 1 of 1 \n",
    "\n",
    "Examine the file \"emails_cmt224.edgelist\" which represents email behaviour at an organisation. Each line contains two numbers, 𝑢 and 𝑣, separated by a blank space. Consider each number as an identifier for an individual in an organisation, with the space on each line representing that the individual, 𝑢, sent at least one email to the another individual, 𝑣, at some point. Model the data using an appropriate, directed network representation and answer the following questions:"
   ]
  },
  {
   "cell_type": "markdown",
   "id": "e2fa5455-293e-4b4b-b084-71d0cb31d40b",
   "metadata": {},
   "source": [
    "##### Q1. Do the majority of individuals have a higher or lower ratio of mutual connections than average in the network?"
   ]
  },
  {
   "cell_type": "code",
   "execution_count": 3,
   "id": "84bbaf04-0d29-457c-9c5c-83da2ce1a57a",
   "metadata": {},
   "outputs": [
    {
     "name": "stdout",
     "output_type": "stream",
     "text": [
      "The majority of individuals have a higher ratio of mutual connections than average.\n"
     ]
    }
   ],
   "source": [
    "graph = nx.read_edgelist(\"emails_cmt224.edgelist\", create_using=nx.DiGraph())\n",
    "\n",
    "# Function to calculate mutual connections ratio for an individual\n",
    "def calculate_mutual_connections_ratio(graph, node):\n",
    "    # Get successors (outgoing connections) of the node\n",
    "    successors = set(graph.successors(node))\n",
    "    \n",
    "    # Count mutual connections (nodes who also have an edge to `node`)\n",
    "    mutual_count = 0\n",
    "    for neighbor in successors:\n",
    "        if node in graph.successors(neighbor):\n",
    "            mutual_count += 1\n",
    "    \n",
    "    # Calculate the ratio of mutual connections\n",
    "    total_connections = len(successors)\n",
    "    if total_connections > 0:\n",
    "        ratio = mutual_count / total_connections\n",
    "    else:\n",
    "        ratio = 0.0\n",
    "    \n",
    "    return ratio\n",
    "\n",
    "# Calculate mutual connections ratio for each individual and collect ratios\n",
    "mutual_ratios = {}\n",
    "for node in graph.nodes():\n",
    "    ratio = calculate_mutual_connections_ratio(graph, node)\n",
    "    mutual_ratios[node] = ratio\n",
    "\n",
    "# Calculate average ratio of mutual connections across all individuals\n",
    "average_ratio = sum(mutual_ratios.values()) / len(mutual_ratios)\n",
    "\n",
    "# Compare each individual's ratio with the average ratio\n",
    "higher_than_average = 0\n",
    "lower_than_average = 0\n",
    "\n",
    "for node, ratio in mutual_ratios.items():\n",
    "    if ratio > average_ratio:\n",
    "        higher_than_average += 1\n",
    "    elif ratio < average_ratio:\n",
    "        lower_than_average += 1\n",
    "\n",
    "# Determine majority based on comparison with average ratio\n",
    "if higher_than_average > lower_than_average:\n",
    "    majority_relationship = \"higher\"\n",
    "elif lower_than_average > higher_than_average:\n",
    "    majority_relationship = \"lower\"\n",
    "else:\n",
    "    majority_relationship = \"equal\"\n",
    "\n",
    "print(f\"The majority of individuals have a {majority_relationship} ratio of mutual connections than average.\")\n"
   ]
  },
  {
   "cell_type": "raw",
   "id": "555d8e2e-b511-44d9-9e66-abbcfd72e813",
   "metadata": {},
   "source": [
    "ANSWER: The majority of individuals have a higher ratio of mutual connections than average.\n",
    "\n",
    "The approach efficiently analyses email interactions in a directed graph by calculating each individual's mutual connections ratio, reflecting communication reciprocity. The average ratio offers a network-wide perspective on reciprocity. Comparing individual ratios to this average identifies outliers. This method is straightforward and effective for understanding communication dynamics. Alternative complex graph algorithms may add unnecessary complexity. The chosen approach strikes a balance between simplicity and effectiveness, providing actionable insights into network reciprocity efficiently.\n"
   ]
  },
  {
   "cell_type": "markdown",
   "id": "a88f1282-c982-44a1-943b-a1e58d6cfd5f",
   "metadata": {
    "tags": []
   },
   "source": [
    "##### Q2. Using the largest, strongly connected component (where at least one path exists between each individual and all others). Could the connectivity of the component be suggested to be reflective of a small world phenomenon in comparison to the typical connectivity of 10 comparative random networks?"
   ]
  },
  {
   "cell_type": "code",
   "execution_count": 23,
   "id": "775143b3-138d-4851-b14f-8119c2b18a9d",
   "metadata": {
    "tags": []
   },
   "outputs": [
    {
     "name": "stdout",
     "output_type": "stream",
     "text": [
      "Metrics for the largest strongly connected component:\n",
      "Average Shortest Path Length: 2.56\n",
      "Clustering Coefficient: 0.39\n",
      "\n",
      "Metrics for random networks (mean of 10 networks):\n",
      "Mean Average Shortest Path Length: 2.54\n",
      "Mean Clustering Coefficient: 0.03\n",
      "\n",
      "The largest strongly connected component does not exhibit typical small world properties compared to random networks.\n"
     ]
    }
   ],
   "source": [
    "graph = nx.read_edgelist(\"emails_cmt224.edgelist\", create_using=nx.DiGraph())\n",
    "\n",
    "# Find all strongly connected components\n",
    "sccs = list(nx.strongly_connected_components(graph))\n",
    "\n",
    "# Get the largest strongly connected component (SCC)\n",
    "largest_scc = max(sccs, key=len)\n",
    "\n",
    "# Create a subgraph of the largest SCC\n",
    "scc_graph = graph.subgraph(largest_scc)\n",
    "\n",
    "# Calculate connectivity metrics for the SCC\n",
    "average_shortest_path_length = nx.average_shortest_path_length(scc_graph)\n",
    "clustering_coefficient = nx.average_clustering(scc_graph)\n",
    "\n",
    "print(\"Metrics for the largest strongly connected component:\")\n",
    "print(f\"Average Shortest Path Length: {average_shortest_path_length:.2f}\")\n",
    "print(f\"Clustering Coefficient: {clustering_coefficient:.2f}\")\n",
    "\n",
    "# Generate 10 random networks with similar characteristics\n",
    "num_nodes = len(graph.nodes())\n",
    "num_edges = len(graph.edges())\n",
    "\n",
    "random_networks_metrics = []\n",
    "for _ in range(10):\n",
    "    random_graph = nx.gnm_random_graph(num_nodes, num_edges, directed=True)\n",
    "    random_scc = max(nx.strongly_connected_components(random_graph), key=len)\n",
    "    random_scc_graph = random_graph.subgraph(random_scc)\n",
    "    random_average_shortest_path_length = nx.average_shortest_path_length(random_scc_graph)\n",
    "    random_clustering_coefficient = nx.average_clustering(random_scc_graph)\n",
    "    random_networks_metrics.append((random_average_shortest_path_length, random_clustering_coefficient))\n",
    "\n",
    "# Calculate mean metrics for the random networks\n",
    "mean_random_avg_shortest_path_length = np.mean([m[0] for m in random_networks_metrics])\n",
    "mean_random_clustering_coefficient = np.mean([m[1] for m in random_networks_metrics])\n",
    "\n",
    "print(\"\\nMetrics for random networks (mean of 10 networks):\")\n",
    "print(f\"Mean Average Shortest Path Length: {mean_random_avg_shortest_path_length:.2f}\")\n",
    "print(f\"Mean Clustering Coefficient: {mean_random_clustering_coefficient:.2f}\")\n",
    "\n",
    "# Compare SCC metrics with random networks\n",
    "if (average_shortest_path_length < mean_random_avg_shortest_path_length) and \\\n",
    "   (clustering_coefficient > mean_random_clustering_coefficient):\n",
    "    print(\"\\nThe largest strongly connected component exhibits properties of a small world network.\")\n",
    "else:\n",
    "    print(\"\\nThe largest strongly connected component does not exhibit typical small world properties compared to random networks.\")\n"
   ]
  },
  {
   "cell_type": "raw",
   "id": "1aac5f8e-2fa2-485c-b163-621f73a91a58",
   "metadata": {},
   "source": [
    "ANSWER: Metrics for the largest strongly connected component:\n",
    "Average Shortest Path Length: 2.56\n",
    "Clustering Coefficient: 0.39\n",
    "\n",
    "Metrics for random networks (mean of 10 networks):\n",
    "Mean Average Shortest Path Length: 2.54\n",
    "Mean Clustering Coefficient: 0.03\n",
    "\n",
    "The largest strongly connected component does not exhibit typical small world properties compared to random networks.\n",
    "\n",
    "The code first identifies the SCC in the email interaction graph, calculating its average shortest path length and clustering coefficient. Then, it generates 10 random networks with similar characteristics and computes these metrics for each random network's largest SCC. By comparing the SCC metrics with the mean metrics of the random networks, the code determines if the SCC exhibits shorter average paths and higher clustering, indicative of small world properties. This approach provides insights into the efficiency and local interconnectedness within the SCC relative to random network structures.\n"
   ]
  },
  {
   "cell_type": "markdown",
   "id": "a1ea162f-553b-402d-b437-99b95cc9821a",
   "metadata": {},
   "source": [
    "##### Q3. Are occurrences of induced, connected subgraphs of 3 individuals (triads) with only mutual connections more abundant in the largest, strongly connected component than those with a mixture of asymmetric and mutual connections? What does this suggest about how mutual connections are distributed in the component?"
   ]
  },
  {
   "cell_type": "code",
   "execution_count": 32,
   "id": "f93ce721-0797-4803-b06b-d3e0a0a04027",
   "metadata": {},
   "outputs": [
    {
     "name": "stdout",
     "output_type": "stream",
     "text": [
      "Number of triads with only mutual connections: 57\n",
      "Number of triads with mixed asymmetric and mutual connections: 507\n",
      "Triads with mixed connections are more abundant.\n"
     ]
    }
   ],
   "source": [
    "def load_graph_from_edgelist(edgelist_file):\n",
    "    \"\"\"Load a directed graph from an edgelist file.\"\"\"\n",
    "    graph = nx.read_edgelist(edgelist_file, create_using=nx.DiGraph())\n",
    "    return graph\n",
    "\n",
    "# Load the graph from the edgelist file\n",
    "edgelist_file_path = \"emails_cmt224.edgelist\"\n",
    "graph = load_graph_from_edgelist(edgelist_file_path)\n",
    "\n",
    "# Find the largest strongly connected component (SCC)\n",
    "largest_scc = max(nx.strongly_connected_components(graph), key=len)\n",
    "largest_scc_graph = graph.subgraph(largest_scc)\n",
    "\n",
    "# Function to classify triads\n",
    "def classify_triads(graph):\n",
    "    triads_mutual = 0\n",
    "    triads_mixed = 0\n",
    "\n",
    "    # Iterate over all nodes in the SCC and check triads\n",
    "    for node in graph:\n",
    "        neighbors = set(graph.successors(node))  # Outgoing neighbors\n",
    "        mutual_triads = 0\n",
    "\n",
    "        # Check each pair of neighbors for mutual connections\n",
    "        for n1 in neighbors:\n",
    "            for n2 in neighbors:\n",
    "                if n1 != n2 and graph.has_edge(n1, n2) and graph.has_edge(n2, n1):\n",
    "                    mutual_triads += 1\n",
    "\n",
    "        # Determine triad type based on mutual connections\n",
    "        if mutual_triads == len(neighbors) * (len(neighbors) - 1):\n",
    "            triads_mutual += 1  # All connections are mutual\n",
    "        else:\n",
    "            triads_mixed += 1    # Some connections are asymmetric\n",
    "\n",
    "    return triads_mutual, triads_mixed\n",
    "\n",
    "# Classify triads within the largest SCC\n",
    "triads_mutual, triads_mixed = classify_triads(largest_scc_graph)\n",
    "\n",
    "# Compare counts of mutual-only and mixed triads\n",
    "print(\"Number of triads with only mutual connections:\", triads_mutual)\n",
    "print(\"Number of triads with mixed asymmetric and mutual connections:\", triads_mixed)\n",
    "\n",
    "# Interpretation\n",
    "if triads_mutual > triads_mixed:\n",
    "    print(\"Triads with only mutual connections are more abundant.\")\n",
    "else:\n",
    "    print(\"Triads with mixed connections are more abundant.\")\n"
   ]
  },
  {
   "cell_type": "raw",
   "id": "660fe970-1267-4d50-b34e-392fa6d14b6a",
   "metadata": {},
   "source": [
    "ANSWER: Number of triads with only mutual connections: 57\n",
    "Number of triads with mixed asymmetric and mutual connections: 507\n",
    "Triads with mixed connections are more abundant.\n",
    "\n",
    "The method iterates through each node in the largest SCC, examining its neighbors to count mutual connections between pairs of neighbors. Triads are classified based on whether all connections among the triad nodes are mutual or if there's at least one asymmetric connection.\n",
    "\n",
    "The result shows that triads with mixed connections (507) are more abundant than those with only mutual connections (57) within the largest SCC. This suggests that while mutual connections (bidirectional edges) are present in some triads, the majority exhibit a mixture of mutual and asymmetric connections, indicating a more complex distribution of connection types within this component of the graph."
   ]
  },
  {
   "cell_type": "markdown",
   "id": "00cddf41-8d3e-4177-8aba-c7a322a8ff58",
   "metadata": {},
   "source": [
    "---\n",
    "### Task 2 of 2\n",
    "\n",
    "Examine the JSON file \"emails_cmt224_departments.json\" (departments file). Keys in the departments file represent individuals using the same ids as in the \"emails_cmt224.edgelist\" file in Part 2, Task 1 and the values represent a department id that the individual can be attributed to. Using the contents of the departments file in combination with the network in Part 2, Task 1, answer the following questions:"
   ]
  },
  {
   "cell_type": "markdown",
   "id": "754c1e34-252d-4786-9b57-0dfe9e76ec5c",
   "metadata": {},
   "source": [
    "##### Q1. Using the connections that individuals have in the network, are they more likely to mix with others in their department or those with a similar number of outward connections?"
   ]
  },
  {
   "cell_type": "code",
   "execution_count": 30,
   "id": "52119076-b214-41ed-a0b0-11a3d6e0e2a7",
   "metadata": {},
   "outputs": [
    {
     "name": "stdout",
     "output_type": "stream",
     "text": [
      "Probability of mixing with same department individuals: 0.33\n",
      "Probability of mixing with individuals with similar outward connections: 0.01\n"
     ]
    }
   ],
   "source": [
    "graph = nx.read_edgelist(\"emails_cmt224.edgelist\", create_using=nx.DiGraph())\n",
    "\n",
    "# Load the departments data from the JSON file\n",
    "with open(\"emails_cmt224_departments.json\", \"r\") as f:\n",
    "    departments_data = json.load(f)\n",
    "\n",
    "# Map individuals to their respective departments\n",
    "individual_department = {}\n",
    "for individual, department_id in departments_data.items():\n",
    "    individual_department[individual] = department_id\n",
    "\n",
    "# Calculate out-degree (number of outward connections) for each individual\n",
    "outward_connections = {}\n",
    "for node in graph.nodes():\n",
    "    outward_connections[node] = graph.out_degree(node)\n",
    "\n",
    "# Determine mixing patterns\n",
    "same_department_mix_count = 0\n",
    "similar_outward_connections_mix_count = 0\n",
    "\n",
    "for edge in graph.edges():\n",
    "    sender, receiver = edge\n",
    "    sender_department = individual_department.get(sender)\n",
    "    receiver_department = individual_department.get(receiver)\n",
    "    sender_outward_connections = outward_connections.get(sender)\n",
    "    receiver_outward_connections = outward_connections.get(receiver)\n",
    "    \n",
    "    # Check if sender and receiver are in the same department\n",
    "    if sender_department == receiver_department:\n",
    "        same_department_mix_count += 1\n",
    "    \n",
    "    # Check if sender and receiver have a similar number of outward connections\n",
    "    if sender_outward_connections == receiver_outward_connections:\n",
    "        similar_outward_connections_mix_count += 1\n",
    "\n",
    "total_connections = graph.number_of_edges()\n",
    "\n",
    "# Calculate probabilities\n",
    "prob_same_department_mix = same_department_mix_count / total_connections\n",
    "prob_similar_outward_connections_mix = similar_outward_connections_mix_count / total_connections\n",
    "\n",
    "print(f\"Probability of mixing with same department individuals: {prob_same_department_mix:.2f}\")\n",
    "print(f\"Probability of mixing with individuals with similar outward connections: {prob_similar_outward_connections_mix:.2f}\")\n",
    "\n"
   ]
  },
  {
   "cell_type": "raw",
   "id": "97f2b5cb-9d52-4787-8e8b-ef9aa29d1c8e",
   "metadata": {},
   "source": [
    "ANSWER: Probability of mixing with same department individuals: 0.33\n",
    "Probability of mixing with individuals with similar outward connections: 0.01\n",
    "\n",
    "Individuals are more likely to mix with others in their department rather than those with a similar number of outward connections within the network. This conclusion is drawn from an analysis of a directed network representing email interactions. The method involves loading the network from an edgelist file and assigning individuals to departments using data from a JSON file. Out-degree (number of outward connections) for each individual is calculated within the network. By examining communication edges, the script counts instances where sender-receiver pairs belong to the same department or have similar out-degree values. The resulting probabilities indicate a higher likelihood of interactions among individuals sharing the same departmental affiliation compared to those with similar levels. This highlights the influence of departmental structure on interaction patterns within the network.\n"
   ]
  },
  {
   "cell_type": "markdown",
   "id": "3a83c73f-b498-49c4-abfb-46b52e34427b",
   "metadata": {
    "tags": []
   },
   "source": [
    "##### Q2. Are all departments with 15 or more members more tightly connected amongst themselves in comparison to all individuals across the overall network irrespective of their department?  Where in this context, 'more tightly connected' is defined as having more mutual AND clustered connections. In addition to answering the overall question as yes or no, provide a list of departments this is true for (if any) and not true for (if any)."
   ]
  },
  {
   "cell_type": "code",
   "execution_count": 31,
   "id": "70af8529-4fce-4910-a4b0-449862f1b96a",
   "metadata": {},
   "outputs": [
    {
     "name": "stdout",
     "output_type": "stream",
     "text": [
      "No, departments with 15 or more members are not more tightly connected amongst themselves compared to the overall network.\n",
      "List of departments where this is not true: ['1', '21', '14', '9', '17', '11', '10', '36', '7', '4', '22', '8', '15', '16', '13', '6', '0', '23', '19']\n"
     ]
    }
   ],
   "source": [
    "graph = nx.read_edgelist(\"emails_cmt224.edgelist\", create_using=nx.DiGraph())\n",
    "\n",
    "# Load the departments data from the JSON file\n",
    "with open(\"emails_cmt224_departments.json\", \"r\") as f:\n",
    "    departments_data = json.load(f)\n",
    "\n",
    "# Map individuals to their respective departments\n",
    "individual_department = {}\n",
    "for individual, department_id in departments_data.items():\n",
    "    individual_department[individual] = department_id\n",
    "\n",
    "# Count members in each department\n",
    "department_size = {}\n",
    "for individual, department_id in individual_department.items():\n",
    "    if department_id in department_size:\n",
    "        department_size[department_id] += 1\n",
    "    else:\n",
    "        department_size[department_id] = 1\n",
    "\n",
    "# Identify departments with 15 or more members\n",
    "large_departments = [dept_id for dept_id, size in department_size.items() if size >= 15]\n",
    "\n",
    "# Function to calculate mutual connections and clustering coefficient for a subgraph\n",
    "def calculate_connectivity_metrics(subgraph):\n",
    "    mutual_connections = sum(1 for u, v in subgraph.edges() if subgraph.has_edge(v, u))\n",
    "    clustering_coefficient = nx.average_clustering(subgraph)\n",
    "    return mutual_connections, clustering_coefficient\n",
    "\n",
    "# Calculate metrics for the overall network\n",
    "overall_mutual_connections, overall_clustering_coefficient = calculate_connectivity_metrics(graph)\n",
    "\n",
    "# Compare departments with 15 or more members to the overall network\n",
    "tightly_connected_departments = []\n",
    "not_tightly_connected_departments = []\n",
    "\n",
    "for dept_id in large_departments:\n",
    "    # Create a subgraph for the current department\n",
    "    department_members = [indiv for indiv, dept in individual_department.items() if dept == dept_id]\n",
    "    department_subgraph = graph.subgraph(department_members)\n",
    "    \n",
    "    # Calculate metrics for the department's subgraph\n",
    "    dept_mutual_connections, dept_clustering_coefficient = calculate_connectivity_metrics(department_subgraph)\n",
    "    \n",
    "    # Compare department metrics with overall network metrics\n",
    "    if dept_mutual_connections > overall_mutual_connections and dept_clustering_coefficient > overall_clustering_coefficient:\n",
    "        tightly_connected_departments.append(dept_id)\n",
    "    else:\n",
    "        not_tightly_connected_departments.append(dept_id)\n",
    "\n",
    "# Determine the overall answer (yes or no)\n",
    "if tightly_connected_departments:\n",
    "    print(\"Yes, departments with 15 or more members are more tightly connected amongst themselves compared to the overall network.\")\n",
    "    print(\"List of departments where this is true:\", tightly_connected_departments)\n",
    "else:\n",
    "    print(\"No, departments with 15 or more members are not more tightly connected amongst themselves compared to the overall network.\")\n",
    "    print(\"List of departments where this is not true:\", not_tightly_connected_departments)\n",
    "\n"
   ]
  },
  {
   "cell_type": "raw",
   "id": "f8f3b14e-67a3-411b-b5c2-04a6cbfce9ce",
   "metadata": {},
   "source": [
    "ANSWER: No, departments with 15 or more members are not more tightly connected amongst themselves compared to the overall network.\n",
    "List of departments where this is not true: ['1', '21', '14', '9', '17', '11', '10', '36', '7', '4', '22', '8', '15', '16', '13', '6', '0', '23', '19']\n",
    "\n",
    "The answer to whether departments with 15 or more members are more tightly connected amongst themselves compared to the overall network is no. This conclusion is drawn from an analysis of a directed network representing email communications. The method involves loading the network from an edgelist file and assigning individuals to departments using data from a JSON file. After identifying departments with 15 or more members, subgraphs are created for each department. Metrics such as mutual connections and clustering coefficient are calculated for these subgraphs and compared against the overall network metrics. The departments where this conclusion holds true (not tightly connected amongst themselves) include departments '1', '21', '14', and others listed. This analysis suggests that large departments do not exhibit significantly higher mutual and clustered connections internally compared to the broader network."
   ]
  }
 ],
 "metadata": {
  "kernelspec": {
   "display_name": "Python 3 (ipykernel)",
   "language": "python",
   "name": "python3"
  },
  "language_info": {
   "codemirror_mode": {
    "name": "ipython",
    "version": 3
   },
   "file_extension": ".py",
   "mimetype": "text/x-python",
   "name": "python",
   "nbconvert_exporter": "python",
   "pygments_lexer": "ipython3",
   "version": "3.10.11"
  }
 },
 "nbformat": 4,
 "nbformat_minor": 5
}
