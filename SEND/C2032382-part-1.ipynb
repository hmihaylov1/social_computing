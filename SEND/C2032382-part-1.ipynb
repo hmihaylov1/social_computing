{
 "cells": [
  {
   "cell_type": "markdown",
   "id": "a1f89f09-3153-4e19-82b5-d168d382809b",
   "metadata": {},
   "source": [
    "# Part 1: Social Media Behaviour Data Analysis"
   ]
  },
  {
   "cell_type": "markdown",
   "id": "b7273255-ab87-4c85-951d-b03c7cad8023",
   "metadata": {
    "tags": []
   },
   "source": [
    "\n",
    "---"
   ]
  },
  {
   "cell_type": "markdown",
   "id": "e1ccb25c-1685-484a-bf08-c4bc9acd9cf3",
   "metadata": {
    "tags": []
   },
   "source": [
    "### Install Python packages (pip only)"
   ]
  },
  {
   "cell_type": "code",
   "execution_count": 33,
   "id": "f4e03f4e-9153-4f7d-ae6f-2f89909a1288",
   "metadata": {},
   "outputs": [
    {
     "name": "stdout",
     "output_type": "stream",
     "text": [
      "Requirement already satisfied: networkx in c:\\users\\admin\\appdata\\local\\packages\\pythonsoftwarefoundation.python.3.10_qbz5n2kfra8p0\\localcache\\local-packages\\python310\\site-packages (3.2.1)\n",
      "Note: you may need to restart the kernel to use updated packages.\n"
     ]
    }
   ],
   "source": [
    "pip install networkx\n"
   ]
  },
  {
   "cell_type": "markdown",
   "id": "2b8621e2-e003-46b7-be7b-20a3f167559a",
   "metadata": {
    "tags": []
   },
   "source": [
    "### Import Python packages"
   ]
  },
  {
   "cell_type": "code",
   "execution_count": 2,
   "id": "d7c00360-c9d4-4781-b9e5-0181f1652bb8",
   "metadata": {},
   "outputs": [],
   "source": [
    "import networkx as nx\n",
    "import numpy as np"
   ]
  },
  {
   "cell_type": "markdown",
   "id": "ffa95b1b-31b8-44ad-9e9c-e2299b8cd2cf",
   "metadata": {},
   "source": [
    "---"
   ]
  },
  {
   "cell_type": "markdown",
   "id": "aa9a6985-71fb-4810-8dad-cd171aedf8a9",
   "metadata": {
    "tags": []
   },
   "source": [
    "### Task 1 of 1\n",
    "\n",
    "Examine the Graph Modelling Language (gml) files \"socialmedia_cmt224_reply_network.gml\" (reply network) and \"socialmedia_cmt224_social_network.gml\" (social network) which represent Twitter data between a sample of users over several days at the time of the Higgs boson particle discovery. Both networks are directed and share the same ids for nodes (anonymised Twitter users).  However, the shared user ids are contained within the \"label\" attribute in the .gml files, not the node \"id\" attribute of each individual .gml file.\n",
    "\n",
    "In the reply network, an edge from a node, 𝑢, to some other node, 𝑣, indicates that 𝑢 replied to a Tweet made by 𝑣 during the time period. Replies are also Tweets. Edges are weighted with the weight representing the number of times this happened over the time period.\n",
    "\n",
    "In the social network, an edge from node 𝑢 to 𝑣 indicates that 𝑢 follows 𝑣 on the social media platform.\n",
    "\n",
    "Using these networks, answer the following questions:"
   ]
  },
  {
   "cell_type": "markdown",
   "id": "2e51a390-c558-451c-8f1e-3009d9fdd525",
   "metadata": {
    "tags": []
   },
   "source": [
    "##### Q1. What fraction of users do not reply to or follow any other user, but have had others reply to their Tweets?"
   ]
  },
  {
   "cell_type": "code",
   "execution_count": 13,
   "id": "23d86c8c-c4fe-4fff-a741-84694bfc1b7e",
   "metadata": {},
   "outputs": [
    {
     "name": "stdout",
     "output_type": "stream",
     "text": [
      "The fraction of users who have not initiated any replies, have not followed anyone, but had others reply to their tweets is 0.009081675330106948.\n",
      "The number of target users meeting these criteria is 152.\n",
      "The total number of users across both networks is 16,737.\n"
     ]
    }
   ],
   "source": [
    "reply_net_path = 'socialmedia_cmt224_reply_network.gml'\n",
    "social_net_path = 'socialmedia_cmt224_social_network.gml'\n",
    "reply_net = nx.read_gml(reply_net_path)\n",
    "social_net = nx.read_gml(social_net_path)\n",
    "\n",
    "# Identify users who have not initiated any replies and have not followed anyone\n",
    "non_reply_users = set(node for node in reply_net.nodes() if reply_net.out_degree(node) == 0)\n",
    "non_follow_users = set(node for node in social_net.nodes() if social_net.out_degree(node) == 0)\n",
    "\n",
    "# Identify users who have had others reply to their tweets\n",
    "received_replies_users = set(node for node in reply_net.nodes() if reply_net.in_degree(node) > 0)\n",
    "\n",
    "# Find users who meet both criteria: not replied, not followed anyone, but had others reply to their tweets\n",
    "non_active_users = non_reply_users.intersection(non_follow_users)\n",
    "target_users = non_active_users.intersection(received_replies_users)\n",
    "\n",
    "# Calculate the fraction of target users out of all users across both networks\n",
    "all_users = set(reply_net.nodes()).union(set(social_net.nodes()))\n",
    "fraction = len(target_users) / len(all_users)\n",
    "\n",
    "def format_value(value):\n",
    "    return \"{:,}\".format(value)\n",
    "\n",
    "fraction_formatted = format_value(fraction)\n",
    "target_users_count_formatted = format_value(len(target_users))\n",
    "all_users_count_formatted = format_value(len(all_users))\n",
    "\n",
    "print(f\"The fraction of users who have not initiated any replies, have not followed anyone, but had others reply to their tweets is {fraction_formatted}.\\n\"\n",
    "      f\"The number of target users meeting these criteria is {target_users_count_formatted}.\\n\"\n",
    "      f\"The total number of users across both networks is {all_users_count_formatted}.\")\n"
   ]
  },
  {
   "cell_type": "raw",
   "id": "b6b3e307-f386-4417-9e9a-40a3de16a996",
   "metadata": {},
   "source": [
    "ANSWER: \n",
    "The fraction of users who have not initiated any replies, have not followed anyone, but had others reply to their tweets is 0.009081675330106948.\n",
    "The number of target users meeting these criteria is 152.\n",
    "The total number of users across both networks is 16,737.\n",
    "\n",
    "The provided Python script utilizes NetworkX to import two social network graphs (social_net and reply_net) from GML files. It identifies users who have not initiated any replies (non_reply_users) or followed anyone (non_follow_users) based on node out-degree within each network. Additionally, it determines users who've received replies (received_replies_users) by inspecting node in-degree in the reply network.\n",
    "\n",
    "Next, it identifies users meeting the criteria of not replying or following anyone but receiving replies (target_users). The script computes the fraction of these users compared to all users across both networks (fraction) and formats the results for clarity. Finally, it displays the findings, offering insights into user interaction patterns within the networks. This approach employs basic graph analysis techniques to comprehend user behavior and relationships effectively."
   ]
  },
  {
   "cell_type": "markdown",
   "id": "e8297318-7065-41ac-84ee-20c67984090f",
   "metadata": {},
   "source": [
    "##### Q2. How does the topological structure of the reply network differ from the social network in terms of overall sparsity of edges between users and the number of connected groups of users?"
   ]
  },
  {
   "cell_type": "code",
   "execution_count": 21,
   "id": "4515b14a-2a60-42e6-8c0e-4fd1d952203d",
   "metadata": {},
   "outputs": [
    {
     "name": "stdout",
     "output_type": "stream",
     "text": [
      "Number of weakly connected components in reply network: 5920\n",
      "Number of weakly connected components in social network: 436\n"
     ]
    }
   ],
   "source": [
    "# Calculate the sparsity of edges in the reply network\n",
    "reply_sparsity = len(reply_net.edges()) / (len(reply_net.nodes()) * (len(reply_net.nodes()) - 1))\n",
    "reply_sparsity = \"{:.2f}\".format(reply_sparsity)  # Format sparsity to 2 decimal places\n",
    "\n",
    "# Calculate the number of connected components in the reply network\n",
    "reply_connected_components = nx.number_weakly_connected_components(reply_net)\n",
    "\n",
    "# Calculate the sparsity of edges in the social network\n",
    "social_sparsity = len(social_net.edges()) / (len(social_net.nodes()) * (len(social_net.nodes()) - 1))\n",
    "social_sparsity = \"{:.2f}\".format(social_sparsity)  # Format sparsity to 2 decimal places\n",
    "\n",
    "# Calculate the number of connected components in the social network\n",
    "social_connected_components = nx.number_weakly_connected_components(social_net)\n",
    "\n",
    "(reply_sparsity, reply_connected_components, social_sparsity, social_connected_components)\n",
    "\n",
    "print(f'Number of weakly connected components in reply network: {reply_connected_components}')\n",
    "print(f'Number of weakly connected components in social network: {social_connected_components}')\n",
    "\n",
    "\n"
   ]
  },
  {
   "cell_type": "raw",
   "id": "052651f7-f191-4777-8bd0-8c8e29a93fb4",
   "metadata": {},
   "source": [
    "ANSWER: Number of weakly connected components in reply network: 5920\n",
    "Number of weakly connected components in social network: 436\n",
    "\n",
    "To analyse the reply network and social network structures, I calculated their edge sparsity and number of weakly connected components. Edge sparsity quantifies network density by comparing actual edges to the maximum possible edges. We used the formula:\n",
    "Sparsity= Total Possible Edges/Number of Edges\n",
    "\n",
    "Next, I determined the number of weakly connected components in each network using NetworkX. This metric reveals distinct user groups within the networks. Comparing these measures helps understand differences in network connectivity and how users interact. The reply network's sparsity and connected components differ from those of the social network, indicating varying levels of interaction and structure among users."
   ]
  },
  {
   "cell_type": "markdown",
   "id": "9b111ee8-5955-4fb0-a0c3-0901e89a1ae7",
   "metadata": {
    "tags": []
   },
   "source": [
    "##### Q3. Does the number of users a user follows in the social network correlate with the number of replies that they make?"
   ]
  },
  {
   "cell_type": "code",
   "execution_count": 4,
   "id": "e4139df4-2095-4241-8143-e9f14814d992",
   "metadata": {},
   "outputs": [
    {
     "name": "stdout",
     "output_type": "stream",
     "text": [
      "Correlation coefficient: 0.06\n"
     ]
    }
   ],
   "source": [
    "social_network = nx.read_gml('socialmedia_cmt224_social_network.gml')\n",
    "\n",
    "# Function to calculate out-degrees for a given network\n",
    "def calculate_out_degrees(network):\n",
    "    return {node: network.out_degree(node) for node in network.nodes()}\n",
    "\n",
    "# Calculate out-degrees for social network and reply network\n",
    "social_out_degrees = calculate_out_degrees(social_network)\n",
    "reply_out_degrees = calculate_out_degrees(reply_network)\n",
    "\n",
    "# Collect follow counts and reply counts for nodes present in both networks\n",
    "common_nodes = set(social_out_degrees.keys()).intersection(reply_out_degrees.keys())\n",
    "\n",
    "follow_counts = [social_out_degrees[node] for node in common_nodes]\n",
    "reply_counts = [reply_out_degrees[node] for node in common_nodes]\n",
    "\n",
    "# Calculate correlation coefficient between follow counts and reply counts\n",
    "correlation_coefficient = np.corrcoef(follow_counts, reply_counts)[0, 1]\n",
    "\n",
    "# Round the correlation coefficient to 2 decimal places\n",
    "rounded_coefficient = round(correlation_coefficient, 2)\n",
    "\n",
    "print(f\"Correlation coefficient: {rounded_coefficient}\")"
   ]
  },
  {
   "cell_type": "raw",
   "id": "843ea997-1710-437a-bee9-d87c6b4a87e7",
   "metadata": {},
   "source": [
    "ANSWER: Correlation coefficient: 0.06\n",
    "\n",
    "To explore the correlation between my engagement in a social network and my behavior in a reply network, I used NetworkX to analyze the structure of a social network dataset I loaded from a GML file. I implemented a function, calculate_out_degrees, to determine the out-degree (number of users I follow) for each user in this network.\n",
    "\n",
    "After computing the out-degrees for the social network, I identified common users between the social network and another assumed reply network. For these shared users, I gathered my follow counts (out-degrees) and reply counts (assuming from the reply network) to examine my engagement patterns. Using NumPy's np.corrcoef function, I calculated the correlation coefficient between these counts.\n",
    "\n",
    "Finally, I rounded the correlation coefficient to two decimal places and printed it out. This analysis sheds light on how my interactions differ across networks and unveils potential relationships between my behavior in these networks."
   ]
  },
  {
   "cell_type": "markdown",
   "id": "0e2d2102-f4eb-4a4e-8289-c6b4f8a72e85",
   "metadata": {},
   "source": [
    "##### Q4. Is a user that replies to another user's Tweet multiple times more likely to follow that user in comparison to if they only replied once?"
   ]
  },
  {
   "cell_type": "code",
   "execution_count": 25,
   "id": "26dbd7ae-c713-4f54-9e07-d213a22cf46a",
   "metadata": {},
   "outputs": [
    {
     "name": "stdout",
     "output_type": "stream",
     "text": [
      "Likelihood of users who replied once and follow back: 0.86\n",
      "Likelihood of users who replied multiple times and follow back: 0.93\n"
     ]
    }
   ],
   "source": [
    "reply_network_path = 'socialmedia_cmt224_reply_network.gml'\n",
    "social_network_path = 'socialmedia_cmt224_social_network.gml'\n",
    "\n",
    "reply_network = nx.read_gml(reply_network_path)\n",
    "social_network = nx.read_gml(social_network_path)\n",
    "\n",
    "# Step 1: Get the users that reply to another user's tweets multiple times\n",
    "num_replies_made = {}\n",
    "for u, v in reply_network.edges():\n",
    "    num_replies_made[u] = num_replies_made.get(u, 0) + 1\n",
    "replied_multiple_times = {user: count for user, count in num_replies_made.items() if count > 1}\n",
    "\n",
    "# Step 2: Get the users that reply to another user's tweet a single time\n",
    "replied_once = {user: count for user, count in num_replies_made.items() if count == 1}\n",
    "\n",
    "# Step 3: Get the users that reply to another user's tweets multiple times and follow them as well\n",
    "replied_and_followed_multiple_times = {}\n",
    "replied_to_users = {}\n",
    "for u, v in reply_network.edges():\n",
    "    replied_to_users[u] = replied_to_users.get(u, set())\n",
    "    replied_to_users[u].add(v)\n",
    "for user, count in replied_multiple_times.items():\n",
    "    if user in social_network:\n",
    "        successors = social_network.successors(user)\n",
    "        if any(successor in replied_to_users.get(user, set()) for successor in successors):\n",
    "            replied_and_followed_multiple_times[user] = count\n",
    "\n",
    "# Step 4: Get the users that reply to another user's tweet a single time and follow them as well\n",
    "replied_and_followed_once = {}\n",
    "for user, _ in replied_once.items():\n",
    "    if user in social_network:\n",
    "        successors = social_network.successors(user)\n",
    "        if any(successor in replied_to_users.get(user, set()) for successor in successors):\n",
    "            replied_and_followed_once[user] = 1\n",
    "\n",
    "# Calculate and print the fractions\n",
    "fraction_replied_once_follow = len(replied_and_followed_once) / len(replied_once) if len(replied_once) > 0 else 0\n",
    "fraction_replied_multiple_times_follow = len(replied_and_followed_multiple_times) / len(replied_multiple_times) if len(replied_multiple_times) > 0 else 0\n",
    "\n",
    "print(f\"Likelihood of users who replied once and follow back: {fraction_replied_once_follow:.2f}\")\n",
    "print(f\"Likelihood of users who replied multiple times and follow back: {fraction_replied_multiple_times_follow:.2f}\")\n"
   ]
  },
  {
   "cell_type": "raw",
   "id": "871ab384-9ac6-418e-b238-e8bc34354dfd",
   "metadata": {},
   "source": [
    "Likelihood of users who replied once and follow back: 0.86\n",
    "Likelihood of users who replied multiple times and follow back: 0.93\n",
    "\n",
    "For each user, the likelihood of follow-back was computed by dividing the number of users who followed back by those who replied (once or multiple times). This approach leverages basic graph theory to quantify user interactions and engagement levels on social media. Understanding these patterns provides insights into how users reciprocate interactions, which is crucial for comprehending social dynamics and behavior on online platforms. The results yield a numerical measure of user engagement and reciprocity in social interactions."
   ]
  },
  {
   "cell_type": "markdown",
   "id": "758e8192-3634-4b37-842c-5930b09861fe",
   "metadata": {},
   "source": [
    "##### Q5. How many users have only mutual following connections (i.e., every user they follow also follows them) and only mutual reply connections with these same users?"
   ]
  },
  {
   "cell_type": "code",
   "execution_count": 3,
   "id": "fb84ca57-63bf-4519-be36-a514bfc2a6fe",
   "metadata": {},
   "outputs": [
    {
     "name": "stdout",
     "output_type": "stream",
     "text": [
      "Number of users with only mutual following and reply connections: 261\n"
     ]
    }
   ],
   "source": [
    "reply_network_path = 'socialmedia_cmt224_reply_network.gml'\n",
    "social_network_path = 'socialmedia_cmt224_social_network.gml'\n",
    "\n",
    "reply_network = nx.read_gml(reply_network_path)\n",
    "social_network = nx.read_gml(social_network_path)\n",
    "\n",
    "#Identify users with only mutual following connections\n",
    "only_mutual_follow_users = set()\n",
    "for user in social_network.nodes():\n",
    "    followers = set(social_network.predecessors(user))\n",
    "    following = set(social_network.successors(user))\n",
    "    if followers == following:  # Check if followers are the same as following\n",
    "        only_mutual_follow_users.add(user)\n",
    "\n",
    "#Identify users with only mutual reply connections with the same users\n",
    "only_mutual_reply_users = set()\n",
    "for user in reply_network.nodes():\n",
    "    replied_to = set(reply_network.predecessors(user))\n",
    "    replies = set(reply_network.successors(user))\n",
    "    if replied_to == replies:  # Check if replied_to users are the same as reply users\n",
    "        only_mutual_reply_users.add(user)\n",
    "\n",
    "#Find users with both types of only mutual connections\n",
    "users_with_only_mutual_connections = only_mutual_follow_users.intersection(only_mutual_reply_users)\n",
    "\n",
    "num_users_with_only_mutual_connections = len(users_with_only_mutual_connections)\n",
    "print(\"Number of users with only mutual following and reply connections:\", num_users_with_only_mutual_connections)\n"
   ]
  },
  {
   "cell_type": "raw",
   "id": "04603234-769e-46b7-8025-01cf979418c6",
   "metadata": {},
   "source": [
    "ANSWER: Number of users with only mutual following and reply connections: 261\n",
    "\n",
    "First, I identified users in the social network who had mutual following connections, meaning they followed users who also followed them back. Similarly, in the reply network, I identified users with mutual reply connections, where they only replied to users who had also replied to them. By intersecting these sets of users, I identified individuals with both types of exclusive mutual connections across the networks. This approach allowed me to leverage graph theory concepts to understand relationship dynamics and network structures efficiently. The methodology focused on quantifying reciprocity and mutual engagement within large-scale networks, providing insights into community interactions and network behaviors."
   ]
  }
 ],
 "metadata": {
  "kernelspec": {
   "display_name": "Python 3 (ipykernel)",
   "language": "python",
   "name": "python3"
  },
  "language_info": {
   "codemirror_mode": {
    "name": "ipython",
    "version": 3
   },
   "file_extension": ".py",
   "mimetype": "text/x-python",
   "name": "python",
   "nbconvert_exporter": "python",
   "pygments_lexer": "ipython3",
   "version": "3.10.11"
  }
 },
 "nbformat": 4,
 "nbformat_minor": 5
}
